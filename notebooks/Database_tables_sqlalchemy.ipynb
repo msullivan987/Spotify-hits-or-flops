{
 "cells": [
  {
   "cell_type": "code",
   "execution_count": 1,
   "metadata": {},
   "outputs": [],
   "source": [
    "#!pip install sqlalchemy\n",
    "import pandas as pd\n",
    "from sqlalchemy import create_engine\n"
   ]
  },
  {
   "cell_type": "code",
   "execution_count": 2,
   "metadata": {},
   "outputs": [],
   "source": [
    "songs_00_df = pd.read_csv(\"../datasets/dataset-of-00s.csv\")\n",
    "songs_10_df = pd.read_csv(\"../datasets/dataset-of-10s.csv\")\n",
    "songs_60_df = pd.read_csv(\"../datasets/dataset-of-60s.csv\")\n",
    "songs_70_df = pd.read_csv(\"../datasets/dataset-of-70s.csv\")\n",
    "songs_80_df = pd.read_csv(\"../datasets/dataset-of-80s.csv\")\n",
    "songs_90_df = pd.read_csv(\"../datasets/dataset-of-90s.csv\")\n",
    "all_songs_df = pd.read_csv(\"../datasets/spotify_data.csv\")\n"
   ]
  },
  {
   "cell_type": "code",
   "execution_count": 3,
   "metadata": {},
   "outputs": [],
   "source": [
    "connection_string = \"postgres:postgres@localhost:5432/spotify_data\"\n",
    "engine = create_engine(f\"postgresql://{connection_string}\")"
   ]
  },
  {
   "cell_type": "code",
   "execution_count": 4,
   "metadata": {},
   "outputs": [],
   "source": [
    "songs_00_df.to_sql(name=\"songs_2000s\", con=engine, index=False)"
   ]
  },
  {
   "cell_type": "code",
   "execution_count": 5,
   "metadata": {},
   "outputs": [],
   "source": [
    "songs_10_df.to_sql(name=\"songs_2010s\", con=engine, index=False)\n",
    "songs_60_df.to_sql(name=\"songs_1960s\", con=engine, index=False)\n",
    "songs_70_df.to_sql(name=\"songs_1970s\", con=engine, index=False)\n",
    "songs_80_df.to_sql(name=\"songs_1980s\", con=engine, index=False)\n",
    "songs_90_df.to_sql(name=\"songs_1990s\", con=engine, index=False)\n",
    "all_songs_df.to_sql(name=\"spotify_data\", con=engine, index=False)"
   ]
  },
  {
   "cell_type": "code",
   "execution_count": 6,
   "metadata": {},
   "outputs": [],
   "source": []
  },
  {
   "cell_type": "code",
   "execution_count": 7,
   "metadata": {},
   "outputs": [],
   "source": []
  },
  {
   "cell_type": "code",
   "execution_count": null,
   "metadata": {},
   "outputs": [],
   "source": []
  }
 ],
 "metadata": {
  "kernelspec": {
   "display_name": "Python 3",
   "language": "python",
   "name": "python3"
  },
  "language_info": {
   "codemirror_mode": {
    "name": "ipython",
    "version": 3
   },
   "file_extension": ".py",
   "mimetype": "text/x-python",
   "name": "python",
   "nbconvert_exporter": "python",
   "pygments_lexer": "ipython3",
   "version": "3.6.10"
  }
 },
 "nbformat": 4,
 "nbformat_minor": 5
}
