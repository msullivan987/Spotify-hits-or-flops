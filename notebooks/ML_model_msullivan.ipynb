{
 "cells": [
  {
   "cell_type": "code",
   "execution_count": null,
   "id": "numerous-literacy",
   "metadata": {},
   "outputs": [],
   "source": [
    "#Set seed value so results are reproducible\n",
    "from numpy.random import seed\n",
    "seed(42)\n",
    "\n",
    "import numpy as np\n",
    "import pandas as pd\n",
    "from sklearn.model_selection import train_test_split\n",
    "from sklearn.preprocessing import StandardScaler\n",
    "\n",
    "#for onehot encoding\n",
    "from tensorflow.keras.utils import to_categorical\n",
    "\n",
    "#for creating a deep neural network\n",
    "from tensorflow.keras.models import Sequential\n",
    "from tensorflow.keras.layers import Dense\n",
    "\n",
    "\n",
    "# if we want to do knn, we might need these\n",
    "# import matplotlib.pyplot as plt\n",
    "# from sklearn.neighbors import KNeighborsClassifier - could also do grid search?"
   ]
  }
 ],
 "metadata": {
  "kernelspec": {
   "display_name": "Python [conda env:PythonAdv] *",
   "language": "python",
   "name": "conda-env-PythonAdv-py"
  },
  "language_info": {
   "codemirror_mode": {
    "name": "ipython",
    "version": 3
   },
   "file_extension": ".py",
   "mimetype": "text/x-python",
   "name": "python",
   "nbconvert_exporter": "python",
   "pygments_lexer": "ipython3",
   "version": "3.6.12"
  }
 },
 "nbformat": 4,
 "nbformat_minor": 5
}
